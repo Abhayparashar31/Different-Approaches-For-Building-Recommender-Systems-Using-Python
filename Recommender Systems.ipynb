{
 "cells": [
  {
   "cell_type": "code",
   "execution_count": 1,
   "metadata": {},
   "outputs": [],
   "source": [
    "import pandas as pd \n",
    "import numpy as np\n",
    "import seaborn as sns\n",
    "import matplotlib.pyplot as plt\n",
    "import sys\n",
    "np.set_printoptions(threshold=sys.maxsize)\n",
    "\n",
    "import pandas as pd\n",
    "pd.set_option('display.max_rows', 20000)\n",
    "pd.set_option('display.max_columns', 20000)\n"
   ]
  },
  {
   "cell_type": "code",
   "execution_count": 2,
   "metadata": {},
   "outputs": [],
   "source": [
    "df = pd.read_csv('Cleaned_df.csv') "
   ]
  },
  {
   "cell_type": "code",
   "execution_count": 3,
   "metadata": {},
   "outputs": [
    {
     "data": {
      "text/html": [
       "<div>\n",
       "<style scoped>\n",
       "    .dataframe tbody tr th:only-of-type {\n",
       "        vertical-align: middle;\n",
       "    }\n",
       "\n",
       "    .dataframe tbody tr th {\n",
       "        vertical-align: top;\n",
       "    }\n",
       "\n",
       "    .dataframe thead th {\n",
       "        text-align: right;\n",
       "    }\n",
       "</style>\n",
       "<table border=\"1\" class=\"dataframe\">\n",
       "  <thead>\n",
       "    <tr style=\"text-align: right;\">\n",
       "      <th></th>\n",
       "      <th>id</th>\n",
       "      <th>title</th>\n",
       "      <th>vote_average</th>\n",
       "      <th>popularity</th>\n",
       "      <th>tags</th>\n",
       "    </tr>\n",
       "  </thead>\n",
       "  <tbody>\n",
       "    <tr>\n",
       "      <th>0</th>\n",
       "      <td>19995</td>\n",
       "      <td>Avatar</td>\n",
       "      <td>7.2</td>\n",
       "      <td>150.437577</td>\n",
       "      <td>samworthington zoesaldana sigourneyweaver step...</td>\n",
       "    </tr>\n",
       "    <tr>\n",
       "      <th>1</th>\n",
       "      <td>285</td>\n",
       "      <td>Pirates of the Caribbean: At World's End</td>\n",
       "      <td>6.9</td>\n",
       "      <td>139.082615</td>\n",
       "      <td>johnnydepp orlandobloom keiraknightley stellan...</td>\n",
       "    </tr>\n",
       "    <tr>\n",
       "      <th>2</th>\n",
       "      <td>206647</td>\n",
       "      <td>Spectre</td>\n",
       "      <td>6.3</td>\n",
       "      <td>107.376788</td>\n",
       "      <td>danielcraig christophwaltz laseydoux ralphfien...</td>\n",
       "    </tr>\n",
       "    <tr>\n",
       "      <th>3</th>\n",
       "      <td>49026</td>\n",
       "      <td>The Dark Knight Rises</td>\n",
       "      <td>7.6</td>\n",
       "      <td>112.312950</td>\n",
       "      <td>christianbale michaelcaine garyoldman annehath...</td>\n",
       "    </tr>\n",
       "    <tr>\n",
       "      <th>4</th>\n",
       "      <td>49529</td>\n",
       "      <td>John Carter</td>\n",
       "      <td>6.1</td>\n",
       "      <td>43.926995</td>\n",
       "      <td>taylorkitsch lynncollins samanthamorton willem...</td>\n",
       "    </tr>\n",
       "  </tbody>\n",
       "</table>\n",
       "</div>"
      ],
      "text/plain": [
       "       id                                     title  vote_average  popularity  \\\n",
       "0   19995                                    Avatar           7.2  150.437577   \n",
       "1     285  Pirates of the Caribbean: At World's End           6.9  139.082615   \n",
       "2  206647                                   Spectre           6.3  107.376788   \n",
       "3   49026                     The Dark Knight Rises           7.6  112.312950   \n",
       "4   49529                               John Carter           6.1   43.926995   \n",
       "\n",
       "                                                tags  \n",
       "0  samworthington zoesaldana sigourneyweaver step...  \n",
       "1  johnnydepp orlandobloom keiraknightley stellan...  \n",
       "2  danielcraig christophwaltz laseydoux ralphfien...  \n",
       "3  christianbale michaelcaine garyoldman annehath...  \n",
       "4  taylorkitsch lynncollins samanthamorton willem...  "
      ]
     },
     "execution_count": 3,
     "metadata": {},
     "output_type": "execute_result"
    }
   ],
   "source": [
    "df.head()"
   ]
  },
  {
   "cell_type": "markdown",
   "metadata": {},
   "source": [
    "# Popularity-Based Recommender System"
   ]
  },
  {
   "cell_type": "code",
   "execution_count": 4,
   "metadata": {},
   "outputs": [
    {
     "data": {
      "text/html": [
       "<div>\n",
       "<style scoped>\n",
       "    .dataframe tbody tr th:only-of-type {\n",
       "        vertical-align: middle;\n",
       "    }\n",
       "\n",
       "    .dataframe tbody tr th {\n",
       "        vertical-align: top;\n",
       "    }\n",
       "\n",
       "    .dataframe thead th {\n",
       "        text-align: right;\n",
       "    }\n",
       "</style>\n",
       "<table border=\"1\" class=\"dataframe\">\n",
       "  <thead>\n",
       "    <tr style=\"text-align: right;\">\n",
       "      <th></th>\n",
       "      <th>id</th>\n",
       "      <th>title</th>\n",
       "      <th>vote_average</th>\n",
       "      <th>popularity</th>\n",
       "      <th>tags</th>\n",
       "    </tr>\n",
       "  </thead>\n",
       "  <tbody>\n",
       "    <tr>\n",
       "      <th>0</th>\n",
       "      <td>19995</td>\n",
       "      <td>Avatar</td>\n",
       "      <td>7.2</td>\n",
       "      <td>150.437577</td>\n",
       "      <td>samworthington zoesaldana sigourneyweaver step...</td>\n",
       "    </tr>\n",
       "    <tr>\n",
       "      <th>1</th>\n",
       "      <td>285</td>\n",
       "      <td>Pirates of the Caribbean: At World's End</td>\n",
       "      <td>6.9</td>\n",
       "      <td>139.082615</td>\n",
       "      <td>johnnydepp orlandobloom keiraknightley stellan...</td>\n",
       "    </tr>\n",
       "    <tr>\n",
       "      <th>2</th>\n",
       "      <td>206647</td>\n",
       "      <td>Spectre</td>\n",
       "      <td>6.3</td>\n",
       "      <td>107.376788</td>\n",
       "      <td>danielcraig christophwaltz laseydoux ralphfien...</td>\n",
       "    </tr>\n",
       "    <tr>\n",
       "      <th>3</th>\n",
       "      <td>49026</td>\n",
       "      <td>The Dark Knight Rises</td>\n",
       "      <td>7.6</td>\n",
       "      <td>112.312950</td>\n",
       "      <td>christianbale michaelcaine garyoldman annehath...</td>\n",
       "    </tr>\n",
       "    <tr>\n",
       "      <th>4</th>\n",
       "      <td>49529</td>\n",
       "      <td>John Carter</td>\n",
       "      <td>6.1</td>\n",
       "      <td>43.926995</td>\n",
       "      <td>taylorkitsch lynncollins samanthamorton willem...</td>\n",
       "    </tr>\n",
       "  </tbody>\n",
       "</table>\n",
       "</div>"
      ],
      "text/plain": [
       "       id                                     title  vote_average  popularity  \\\n",
       "0   19995                                    Avatar           7.2  150.437577   \n",
       "1     285  Pirates of the Caribbean: At World's End           6.9  139.082615   \n",
       "2  206647                                   Spectre           6.3  107.376788   \n",
       "3   49026                     The Dark Knight Rises           7.6  112.312950   \n",
       "4   49529                               John Carter           6.1   43.926995   \n",
       "\n",
       "                                                tags  \n",
       "0  samworthington zoesaldana sigourneyweaver step...  \n",
       "1  johnnydepp orlandobloom keiraknightley stellan...  \n",
       "2  danielcraig christophwaltz laseydoux ralphfien...  \n",
       "3  christianbale michaelcaine garyoldman annehath...  \n",
       "4  taylorkitsch lynncollins samanthamorton willem...  "
      ]
     },
     "execution_count": 4,
     "metadata": {},
     "output_type": "execute_result"
    }
   ],
   "source": [
    "data = df.copy()\n",
    "data.head()"
   ]
  },
  {
   "cell_type": "code",
   "execution_count": 5,
   "metadata": {},
   "outputs": [
    {
     "data": {
      "text/html": [
       "<div>\n",
       "<style scoped>\n",
       "    .dataframe tbody tr th:only-of-type {\n",
       "        vertical-align: middle;\n",
       "    }\n",
       "\n",
       "    .dataframe tbody tr th {\n",
       "        vertical-align: top;\n",
       "    }\n",
       "\n",
       "    .dataframe thead th {\n",
       "        text-align: right;\n",
       "    }\n",
       "</style>\n",
       "<table border=\"1\" class=\"dataframe\">\n",
       "  <thead>\n",
       "    <tr style=\"text-align: right;\">\n",
       "      <th></th>\n",
       "      <th>id</th>\n",
       "      <th>title</th>\n",
       "      <th>vote_average</th>\n",
       "      <th>popularity</th>\n",
       "      <th>tags</th>\n",
       "    </tr>\n",
       "  </thead>\n",
       "  <tbody>\n",
       "    <tr>\n",
       "      <th>546</th>\n",
       "      <td>211672</td>\n",
       "      <td>Minions</td>\n",
       "      <td>6.4</td>\n",
       "      <td>875.581305</td>\n",
       "      <td>sandrabullock jonhamm michaelkeaton allisonjan...</td>\n",
       "    </tr>\n",
       "    <tr>\n",
       "      <th>95</th>\n",
       "      <td>157336</td>\n",
       "      <td>Interstellar</td>\n",
       "      <td>8.1</td>\n",
       "      <td>724.247784</td>\n",
       "      <td>matthewmcconaughey jessicachastain annehathawa...</td>\n",
       "    </tr>\n",
       "    <tr>\n",
       "      <th>788</th>\n",
       "      <td>293660</td>\n",
       "      <td>Deadpool</td>\n",
       "      <td>7.4</td>\n",
       "      <td>514.569956</td>\n",
       "      <td>ryanreynolds morenabaccarin edskrein tjmiller ...</td>\n",
       "    </tr>\n",
       "    <tr>\n",
       "      <th>94</th>\n",
       "      <td>118340</td>\n",
       "      <td>Guardians of the Galaxy</td>\n",
       "      <td>7.9</td>\n",
       "      <td>481.098624</td>\n",
       "      <td>chrispratt zoesaldana davebautista vindiesel b...</td>\n",
       "    </tr>\n",
       "    <tr>\n",
       "      <th>127</th>\n",
       "      <td>76341</td>\n",
       "      <td>Mad Max: Fury Road</td>\n",
       "      <td>7.2</td>\n",
       "      <td>434.278564</td>\n",
       "      <td>tomhardy charlizetheron nicholashoult hughkeay...</td>\n",
       "    </tr>\n",
       "    <tr>\n",
       "      <th>28</th>\n",
       "      <td>135397</td>\n",
       "      <td>Jurassic World</td>\n",
       "      <td>6.5</td>\n",
       "      <td>418.708552</td>\n",
       "      <td>chrispratt brycedallashoward irrfankhan vincen...</td>\n",
       "    </tr>\n",
       "    <tr>\n",
       "      <th>199</th>\n",
       "      <td>22</td>\n",
       "      <td>Pirates of the Caribbean: The Curse of the Bla...</td>\n",
       "      <td>7.5</td>\n",
       "      <td>271.972889</td>\n",
       "      <td>johnnydepp geoffreyrush orlandobloom keiraknig...</td>\n",
       "    </tr>\n",
       "    <tr>\n",
       "      <th>82</th>\n",
       "      <td>119450</td>\n",
       "      <td>Dawn of the Planet of the Apes</td>\n",
       "      <td>7.3</td>\n",
       "      <td>243.791743</td>\n",
       "      <td>andyserkis jasonclarke garyoldman kerirussell ...</td>\n",
       "    </tr>\n",
       "    <tr>\n",
       "      <th>200</th>\n",
       "      <td>131631</td>\n",
       "      <td>The Hunger Games: Mockingjay - Part 1</td>\n",
       "      <td>6.6</td>\n",
       "      <td>206.227151</td>\n",
       "      <td>jenniferlawrence joshhutcherson liamhemsworth ...</td>\n",
       "    </tr>\n",
       "    <tr>\n",
       "      <th>88</th>\n",
       "      <td>177572</td>\n",
       "      <td>Big Hero 6</td>\n",
       "      <td>7.8</td>\n",
       "      <td>203.734590</td>\n",
       "      <td>scottadsit ryanpotter danielhenney tjmiller ja...</td>\n",
       "    </tr>\n",
       "  </tbody>\n",
       "</table>\n",
       "</div>"
      ],
      "text/plain": [
       "         id                                              title  vote_average  \\\n",
       "546  211672                                            Minions           6.4   \n",
       "95   157336                                       Interstellar           8.1   \n",
       "788  293660                                           Deadpool           7.4   \n",
       "94   118340                            Guardians of the Galaxy           7.9   \n",
       "127   76341                                 Mad Max: Fury Road           7.2   \n",
       "28   135397                                     Jurassic World           6.5   \n",
       "199      22  Pirates of the Caribbean: The Curse of the Bla...           7.5   \n",
       "82   119450                     Dawn of the Planet of the Apes           7.3   \n",
       "200  131631              The Hunger Games: Mockingjay - Part 1           6.6   \n",
       "88   177572                                         Big Hero 6           7.8   \n",
       "\n",
       "     popularity                                               tags  \n",
       "546  875.581305  sandrabullock jonhamm michaelkeaton allisonjan...  \n",
       "95   724.247784  matthewmcconaughey jessicachastain annehathawa...  \n",
       "788  514.569956  ryanreynolds morenabaccarin edskrein tjmiller ...  \n",
       "94   481.098624  chrispratt zoesaldana davebautista vindiesel b...  \n",
       "127  434.278564  tomhardy charlizetheron nicholashoult hughkeay...  \n",
       "28   418.708552  chrispratt brycedallashoward irrfankhan vincen...  \n",
       "199  271.972889  johnnydepp geoffreyrush orlandobloom keiraknig...  \n",
       "82   243.791743  andyserkis jasonclarke garyoldman kerirussell ...  \n",
       "200  206.227151  jenniferlawrence joshhutcherson liamhemsworth ...  \n",
       "88   203.734590  scottadsit ryanpotter danielhenney tjmiller ja...  "
      ]
     },
     "execution_count": 5,
     "metadata": {},
     "output_type": "execute_result"
    }
   ],
   "source": [
    "sorted_data = data.sort_values(by='popularity', ascending=False)\n",
    "top_10_popular_movies = sorted_data.iloc[:10]\n",
    "top_10_popular_movies"
   ]
  },
  {
   "cell_type": "code",
   "execution_count": 6,
   "metadata": {},
   "outputs": [
    {
     "data": {
      "image/png": "[encoded data removed]",
      "text/plain": [
       "<Figure size 432x288 with 1 Axes>"
      ]
     },
     "metadata": {
      "needs_background": "light"
     },
     "output_type": "display_data"
    }
   ],
   "source": [
    "sns.barplot(y='title',x='popularity',data=top_10_popular_movies);"
   ]
  },
  {
   "cell_type": "code",
   "execution_count": 7,
   "metadata": {},
   "outputs": [
    {
     "data": {
      "image/png": "[encoded data removed]",
      "text/plain": [
       "<Figure size 432x288 with 1 Axes>"
      ]
     },
     "metadata": {
      "needs_background": "light"
     },
     "output_type": "display_data"
    }
   ],
   "source": [
    "sorted_data = data.sort_values(by='vote_average', ascending=False)\n",
    "top_10_popular_movies_va = sorted_data.iloc[:10]\n",
    "sns.barplot(y='title',x='vote_average',data=top_10_popular_movies_va);"
   ]
  },
  {
   "cell_type": "markdown",
   "metadata": {},
   "source": [
    "# Content-Based Recommender System"
   ]
  },
  {
   "cell_type": "code",
   "execution_count": 8,
   "metadata": {},
   "outputs": [
    {
     "data": {
      "text/html": [
       "<div>\n",
       "<style scoped>\n",
       "    .dataframe tbody tr th:only-of-type {\n",
       "        vertical-align: middle;\n",
       "    }\n",
       "\n",
       "    .dataframe tbody tr th {\n",
       "        vertical-align: top;\n",
       "    }\n",
       "\n",
       "    .dataframe thead th {\n",
       "        text-align: right;\n",
       "    }\n",
       "</style>\n",
       "<table border=\"1\" class=\"dataframe\">\n",
       "  <thead>\n",
       "    <tr style=\"text-align: right;\">\n",
       "      <th></th>\n",
       "      <th>id</th>\n",
       "      <th>title</th>\n",
       "      <th>vote_average</th>\n",
       "      <th>popularity</th>\n",
       "      <th>tags</th>\n",
       "    </tr>\n",
       "  </thead>\n",
       "  <tbody>\n",
       "    <tr>\n",
       "      <th>0</th>\n",
       "      <td>19995</td>\n",
       "      <td>Avatar</td>\n",
       "      <td>7.2</td>\n",
       "      <td>150.437577</td>\n",
       "      <td>samworthington zoesaldana sigourneyweaver step...</td>\n",
       "    </tr>\n",
       "    <tr>\n",
       "      <th>1</th>\n",
       "      <td>285</td>\n",
       "      <td>Pirates of the Caribbean: At World's End</td>\n",
       "      <td>6.9</td>\n",
       "      <td>139.082615</td>\n",
       "      <td>johnnydepp orlandobloom keiraknightley stellan...</td>\n",
       "    </tr>\n",
       "    <tr>\n",
       "      <th>2</th>\n",
       "      <td>206647</td>\n",
       "      <td>Spectre</td>\n",
       "      <td>6.3</td>\n",
       "      <td>107.376788</td>\n",
       "      <td>danielcraig christophwaltz laseydoux ralphfien...</td>\n",
       "    </tr>\n",
       "    <tr>\n",
       "      <th>3</th>\n",
       "      <td>49026</td>\n",
       "      <td>The Dark Knight Rises</td>\n",
       "      <td>7.6</td>\n",
       "      <td>112.312950</td>\n",
       "      <td>christianbale michaelcaine garyoldman annehath...</td>\n",
       "    </tr>\n",
       "    <tr>\n",
       "      <th>4</th>\n",
       "      <td>49529</td>\n",
       "      <td>John Carter</td>\n",
       "      <td>6.1</td>\n",
       "      <td>43.926995</td>\n",
       "      <td>taylorkitsch lynncollins samanthamorton willem...</td>\n",
       "    </tr>\n",
       "  </tbody>\n",
       "</table>\n",
       "</div>"
      ],
      "text/plain": [
       "       id                                     title  vote_average  popularity  \\\n",
       "0   19995                                    Avatar           7.2  150.437577   \n",
       "1     285  Pirates of the Caribbean: At World's End           6.9  139.082615   \n",
       "2  206647                                   Spectre           6.3  107.376788   \n",
       "3   49026                     The Dark Knight Rises           7.6  112.312950   \n",
       "4   49529                               John Carter           6.1   43.926995   \n",
       "\n",
       "                                                tags  \n",
       "0  samworthington zoesaldana sigourneyweaver step...  \n",
       "1  johnnydepp orlandobloom keiraknightley stellan...  \n",
       "2  danielcraig christophwaltz laseydoux ralphfien...  \n",
       "3  christianbale michaelcaine garyoldman annehath...  \n",
       "4  taylorkitsch lynncollins samanthamorton willem...  "
      ]
     },
     "execution_count": 8,
     "metadata": {},
     "output_type": "execute_result"
    }
   ],
   "source": [
    "import pandas as pd\n",
    "import seaborn as sns\n",
    "import numpy\n",
    "\n",
    "df = pd.read_csv('Cleaned_df.csv') \n",
    "df.head()"
   ]
  },
  {
   "cell_type": "code",
   "execution_count": 9,
   "metadata": {},
   "outputs": [],
   "source": [
    "## Vectorization\n",
    "from sklearn.feature_extraction.text import CountVectorizer\n",
    "countVec = CountVectorizer(max_features=10000)\n",
    "Vectors = countVec.fit_transform(df['tags']).toarray()\n",
    "\n",
    "## Cosine Similarity between Vectors\n",
    "from sklearn.metrics.pairwise import cosine_similarity\n",
    "similarity = cosine_similarity(Vectors)\n",
    "\n",
    "## Custom Functions\n",
    "def get_title_from_index(index):\n",
    "    return df[df.index == index][\"title\"].values[0]\n",
    "def get_index_from_title(title):\n",
    "    return df[df.title == title].index[0]\n"
   ]
  },
  {
   "cell_type": "code",
   "execution_count": 10,
   "metadata": {},
   "outputs": [
    {
     "data": {
      "image/png": "[encoded data removed]",
      "text/plain": [
       "<Figure size 432x288 with 1 Axes>"
      ]
     },
     "metadata": {
      "needs_background": "light"
     },
     "output_type": "display_data"
    }
   ],
   "source": [
    "user_liked_movie = 'The Avengers'\n",
    "\n",
    "movie_index = get_index_from_title(user_liked_movie)\n",
    "similar_movies = list(enumerate(similarity[movie_index]))\n",
    "sorted_similar_movies = sorted(similar_movies,key=lambda x:x[1],reverse=True)[1:11]\n",
    "\n",
    "top_simiar_movies = {}\n",
    "for i in sorted_similar_movies:\n",
    "    top_simiar_movies[get_title_from_index(i[0])] = i[1]\n",
    "sns.barplot(x=list(top_simiar_movies.values()),y=list(top_simiar_movies.keys()));"
   ]
  },
  {
   "cell_type": "markdown",
   "metadata": {},
   "source": [
    "# Collaborative Recommender System"
   ]
  },
  {
   "cell_type": "code",
   "execution_count": 11,
   "metadata": {},
   "outputs": [],
   "source": [
    "## Reading Dataset\n",
    "import pandas as pd\n",
    "\n",
    "movies_df  = pd.read_csv('movies.csv')\n",
    "ratings_df = pd.read_csv('ratings.csv')\n",
    "\n",
    "## Merging ID & titles with ratings\n",
    "df = pd.merge(movies_df,ratings_df,on='movieId').drop(['genres','timestamp'],axis=1)\n",
    "\n",
    "## Filtering Data (Ignoring Movies with less than 10 ratings, and Users with less than 100 ratings given)\n",
    "def filter_data(df):\n",
    "  ### Ratings Per Movie\n",
    "    ratings_per_movie = df.groupby('movieId')['rating'].count()\n",
    "\n",
    "  ### Ratings By Each User\n",
    "    ratings_per_user = df.groupby('userId')['rating'].count()\n",
    "\n",
    "    ratings_per_movie_df = pd.DataFrame(ratings_per_movie)\n",
    "    ratings_per_user_df = pd.DataFrame(ratings_per_user)\n",
    "  ######## Filter Movies (>=10)\n",
    "    filtered_ratings_per_movie_df = ratings_per_movie_df[ratings_per_movie_df.rating >= 10].index.tolist()\n",
    "\n",
    "  ########## Filter Users  (>=50)\n",
    "    filtered_ratings_per_user_df = ratings_per_user_df[ratings_per_user_df.rating >= 100].index.tolist()\n",
    "    df = df[df.movieId.isin(filtered_ratings_per_movie_df)]\n",
    "    df = df[df.userId.isin(filtered_ratings_per_user_df)]\n",
    "    return df\n",
    "\n",
    "df = filter_data(df)\n",
    "\n",
    "## PivotTable\n",
    "userRatings = df.pivot_table(index=['userId'],columns=['title'],values='rating').fillna(0)\n",
    "\n",
    "## Preparing Correlation Matrix\n",
    "corrMatrix = userRatings.corr(method='pearson')\n",
    "corrMatrix"
   ]
  },
  {
   "cell_type": "code",
   "execution_count": 12,
   "metadata": {},
   "outputs": [
    {
     "name": "stdout",
     "output_type": "stream",
     "text": [
      "title\n",
      "Goodfellas (1990)                            1.277269\n",
      "Usual Suspects, The (1995)                   1.211515\n",
      "American History X (1998)                    1.131007\n",
      "Reservoir Dogs (1992)                        1.119545\n",
      "Seven (a.k.a. Se7en) (1995)                  1.113486\n",
      "Fight Club (1999)                            1.084580\n",
      "Twelve Monkeys (a.k.a. 12 Monkeys) (1995)    1.063703\n",
      "Trainspotting (1996)                         1.059829\n",
      "Fargo (1996)                                 1.047534\n",
      "Silence of the Lambs, The (1991)             0.991004\n",
      "Name: Pulp Fiction (1994), dtype: float64\n"
     ]
    }
   ],
   "source": [
    "### user Input Movies (Single Movie)\n",
    "def recommend_movies(movie_name,rating):\n",
    "    similar_ratings = corrMatrix[movie_name]*(rating-2.5)\n",
    "    recommendations = similar_ratings.sort_values(ascending=False)\n",
    "    return recommendations\n",
    "\n",
    "## User Input\n",
    "movie_name = \"Pulp Fiction (1994)\"\n",
    "rating = 5\n",
    "recommendations = recommend_movies(movie_name,rating)\n",
    "print(recommendations[1:11].sort_values(ascending=False))"
   ]
  },
  {
   "cell_type": "code",
   "execution_count": null,
   "metadata": {},
   "outputs": [],
   "source": []
  }
 ],
 "metadata": {
  "kernelspec": {
   "display_name": "Python 3",
   "language": "python",
   "name": "python3"
  },
  "language_info": {
   "codemirror_mode": {
    "name": "ipython",
    "version": 3
   },
   "file_extension": ".py",
   "mimetype": "text/x-python",
   "name": "python",
   "nbconvert_exporter": "python",
   "pygments_lexer": "ipython3",
   "version": "3.7.9"
  }
 },
 "nbformat": 4,
 "nbformat_minor": 4
}
